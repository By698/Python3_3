{
 "cells": [
  {
   "cell_type": "code",
   "execution_count": 1,
   "metadata": {
    "collapsed": true,
    "pycharm": {
     "is_executing": false,
     "name": "#%%\n"
    }
   },
   "outputs": [
    {
     "name": "stdout",
     "text": [
      "[[ 1.         -0.10936925  0.87175416  0.81795363]\n",
      " [-0.10936925  1.         -0.4205161  -0.35654409]\n",
      " [ 0.87175416 -0.4205161   1.          0.9627571 ]\n",
      " [ 0.81795363 -0.35654409  0.9627571   1.        ]]\n",
      "Średnia arytmetyczna sepal_length  to: 5.843333333333334\n",
      "Odchylenie standardowe sepal_length  to: 0.8253012917851409\n",
      "Mediana sepal_length  to: 5.8\n",
      "Najmniejsza wartosc sepal_length  to: 4.3\n",
      "Najwieksza wartosc sepal_length  to: 7.9\n",
      "Najczęściej występująca wartość to: Iris-setosa\n",
      "Liczebność: 50\n",
      "Częstość: 0.3333333333333333\n"
     ],
     "output_type": "stream"
    }
   ],
   "source": [
    "import pythonfile\n",
    "pythonfile.dominant(pythonfile.iris_class)"
   ]
  },
  {
   "cell_type": "code",
   "execution_count": null,
   "outputs": [],
   "source": [],
   "metadata": {
    "collapsed": false,
    "pycharm": {
     "name": "#%%\n"
    }
   }
  }
 ],
 "metadata": {
  "kernelspec": {
   "display_name": "Python 3",
   "language": "python",
   "name": "python3"
  },
  "language_info": {
   "codemirror_mode": {
    "name": "ipython",
    "version": 2
   },
   "file_extension": ".py",
   "mimetype": "text/x-python",
   "name": "python",
   "nbconvert_exporter": "python",
   "pygments_lexer": "ipython2",
   "version": "2.7.6"
  },
  "pycharm": {
   "stem_cell": {
    "cell_type": "raw",
    "source": [],
    "metadata": {
     "collapsed": false
    }
   }
  }
 },
 "nbformat": 4,
 "nbformat_minor": 0
}